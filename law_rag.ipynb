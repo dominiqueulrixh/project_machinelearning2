{
 "cells": [
  {
   "cell_type": "code",
   "execution_count": 1,
   "metadata": {},
   "outputs": [],
   "source": [
    "# required libraries\n",
    "import openai\n",
    "import os\n",
    "from dotenv import load_dotenv\n",
    "from langchain.document_loaders import PyPDFLoader\n",
    "from langchain.chains import RetrievalQA\n",
    "from langchain_openai import ChatOpenAI\n",
    "from langchain_openai import OpenAIEmbeddings\n",
    "from langchain.text_splitter import RecursiveCharacterTextSplitter\n",
    "from langchain.vectorstores import Chroma"
   ]
  },
  {
   "cell_type": "code",
   "execution_count": 23,
   "metadata": {},
   "outputs": [],
   "source": [
    "text_splitter = RecursiveCharacterTextSplitter(chunk_size=1000, chunk_overlap=100)\n",
    "loader = PyPDFLoader(\"data/Zivilgesetzbuch.pdf\")\n",
    "chunks = loader.load_and_split(text_splitter)"
   ]
  },
  {
   "cell_type": "code",
   "execution_count": 24,
   "metadata": {},
   "outputs": [
    {
     "name": "stdout",
     "output_type": "stream",
     "text": [
      "1 / 384 Schweizerisches Zivilgesetzbuch   \n",
      "vom 10. Dezember 1907  (Stand am 1. Januar 2023)  \n",
      " \n",
      "Die Bundesversammlung  der Schweizerischen Eidgenossenschaft,  \n",
      "gestützt auf Artikel 64 der Bundesverfassung1,2  \n",
      "nach Einsicht in eine Botschaft des Bundesrates vom 28. Mai 19043, \n",
      "beschliesst:  \n",
      "Einleitung  \n",
      "Art. 1  \n",
      "1 Das Gesetz findet auf alle Rechtsfragen Anw endung, für die es nach \n",
      "Wortlaut oder Auslegung eine Bestimmung enthält.  \n",
      "2 Kann dem Gesetz keine Vorschrift entnommen werden, so soll das \n",
      "Gericht4 nach Gewohnheitsrecht und, wo auch ein solches fehlt, nach \n",
      "der Regel entscheiden, die es als Gesetzgeber aufs tellen würde.  \n",
      "3 Es folgt dabei bewährter Lehre und Überlieferung.  \n",
      "Art. 2  \n",
      "1 Jedermann hat in der Ausübung seiner Rechte und in der Erfüllung \n",
      "seiner Pflich ten nach Treu und Glauben zu handel n. \n",
      "2 Der offenbare Missbrauch eines Rechtes findet keinen Rechts schutz.    \n",
      "Art. 3  \n",
      "1 Wo das Gesetz eine Rechtswirkung an den guten Glauben einer Per -\n",
      "The chunk contains 974 characters\n"
     ]
    }
   ],
   "source": [
    "print(chunks[0].page_content)\n",
    "print(\"The chunk contains \" + str(len(chunks[0].page_content)) + \" characters\")"
   ]
  },
  {
   "cell_type": "code",
   "execution_count": 25,
   "metadata": {},
   "outputs": [],
   "source": [
    "# Load environment variables from .env file\n",
    "load_dotenv()\n",
    "\n",
    "# Access the API key using the variable name defined in the .env file\n",
    "openai.api_key = os.getenv(\"OPENAI_API_KEY\")\n",
    "\n",
    "# Initialize the OpenAI chat model\n",
    "llm = ChatOpenAI(model_name=\"gpt-4o\", temperature=0.8)\n",
    "\n",
    "# initialize the OpenAI embeddings model\n",
    "embeddings = OpenAIEmbeddings()"
   ]
  },
  {
   "cell_type": "code",
   "execution_count": 27,
   "metadata": {},
   "outputs": [],
   "source": [
    "if os.path.exists(\"zivillaw_db\"):\n",
    "    print(\"Loading zivillaw_db from disk...\")\n",
    "    Chroma(persist_directory=\"zivillaw_db\", embedding_function=embeddings)\n",
    "else:\n",
    "    chroma_db = Chroma.from_documents(documents=chunks,\n",
    "                                    embedding=embeddings,\n",
    "                                    persist_directory=\"zivillaw_db\",\n",
    "                                    collection_name=\"lc_chroma_demo\")"
   ]
  },
  {
   "cell_type": "code",
   "execution_count": 28,
   "metadata": {},
   "outputs": [],
   "source": [
    "query = \"What is this document about?\""
   ]
  },
  {
   "cell_type": "code",
   "execution_count": 29,
   "metadata": {},
   "outputs": [
    {
     "name": "stdout",
     "output_type": "stream",
     "text": [
      "[Document(page_content='Papier -Schuldbrief zudem aus dem Titel ergeben.  III. Stellung des \\nEigentümers  \\nIV. Veräusse-\\nrung. Teilung  \\nV. Schuldbrief-\\nforderung und \\nNebenverein -\\nbarungen  \\n1. Im Allgemei-\\nnen \\n2. Kündigung  \\nVI. Schutz des \\nguten Glaubens  \\nVII. Einreden \\ndes Schuldners', metadata={'page': 256, 'source': 'data/Zivilgesetzbuch.pdf'}), Document(page_content='Schweizerisches Zivilgesetzbuch  \\n270 / 384 210 \\nArt. 925  \\n1 Werden für Waren, die einem Frachtführer oder einem Lagerhaus \\nübergeben sind, Wertpapiere ausgestellt, die sie vertreten, so gilt die \\nÜbertragung einer solchen Urkunde als Übertragung der Ware selbst.  \\n2 Steht jedoch dem gutgläubigen Empfänger des Warenpapiers ein gut -\\ngläubiger Empfänger der Ware gegenüber, so geht dieser jenem vor.  \\nArt. 926  \\n1 Jeder Besitzer darf sich verbotener Eig enmacht mit Gewalt erweh ren. \\n2 Er darf sich, wenn ihm die Sache durch Gewalt oder heimlich ent zo-\\ngen wird, sofort des Grundstückes durch Vertreibung des Täters wie der \\nbemächtigen und die bewegliche Sache dem auf frischer Tat be troffe-\\nnen und unmittelbar verfolgten Täter wieder abnehmen.  \\n3 Er hat sich dabei jeder nach den Umständen nicht gerechtfertigten Ge-\\nwalt zu enthalten.  \\nArt. 927  \\n1 Wer einem andern eine Sache durch verbotene Eigenmacht entzo gen', metadata={'page': 269, 'source': 'data/Zivilgesetzbuch.pdf'}), Document(page_content='Grundbuch angemerkt ist, dürfen bis zum Ablauf der Ei ntragungs frist \\nPfandrechte nur als Grundpfandverschreibungen einge tragen werden.   \\nDritter Abschnitt:648 Der Schuldbrief  \\nArt. 842 \\n1 Durch den Schuldbrief wird eine persönliche Forderung begründet, \\ndie grundpfändlich sichergestellt ist.  \\n2 Die Schuldbriefforderung tritt neben die zu sichernde Forderung, die \\ndem Gläubiger gegenüber dem Schuldner aus dem Grundverhältnis ge-\\ngebenenfalls zusteht, wenn nichts anderes vereinbart ist.  \\n3 Der Schuldner kann sich bezüglich der Schuldbriefforderung gegen-\\nüber dem Gläubiger sowie gegenüber Rechtsnachfolgern, die sich nicht \\nin gutem Glauben befinden, auf die sich aus dem Grundverhältnis erge-\\nbenden persönlichen Einreden berufen.  \\nArt. 843 \\nDer Schuldbrief wird entweder als Register -Schuldbrief oder als \\nPapier -Schuldbrief ausgestaltet.  \\n  \\n648 Fassung gemäss Ziff. I 1 des BG vom 11. Dez. 2009 (Register -Schuldbrief und weitere', metadata={'page': 255, 'source': 'data/Zivilgesetzbuch.pdf'}), Document(page_content='den. III. Verpfän-\\ndung, Pfändung \\nund Nutznies-\\nsung  \\nC. Papier -\\nSchuldbrief  \\nI. Errichtung  \\n1. Eintragung  \\n2. Pfandtitel  \\nII. Schutz des \\nguten Glaubens  \\nIII. Rechte des \\nGläubigers  \\n1. Geltend -\\nmachung', metadata={'page': 259, 'source': 'data/Zivilgesetzbuch.pdf'})]\n"
     ]
    }
   ],
   "source": [
    "result = chroma_db.similarity_search(query)\n",
    "print(result)"
   ]
  },
  {
   "cell_type": "code",
   "execution_count": 30,
   "metadata": {},
   "outputs": [
    {
     "name": "stdout",
     "output_type": "stream",
     "text": [
      "[(Document(page_content='Papier -Schuldbrief zudem aus dem Titel ergeben.  III. Stellung des \\nEigentümers  \\nIV. Veräusse-\\nrung. Teilung  \\nV. Schuldbrief-\\nforderung und \\nNebenverein -\\nbarungen  \\n1. Im Allgemei-\\nnen \\n2. Kündigung  \\nVI. Schutz des \\nguten Glaubens  \\nVII. Einreden \\ndes Schuldners', metadata={'page': 256, 'source': 'data/Zivilgesetzbuch.pdf'}), 0.4186582565307617), (Document(page_content='Schweizerisches Zivilgesetzbuch  \\n270 / 384 210 \\nArt. 925  \\n1 Werden für Waren, die einem Frachtführer oder einem Lagerhaus \\nübergeben sind, Wertpapiere ausgestellt, die sie vertreten, so gilt die \\nÜbertragung einer solchen Urkunde als Übertragung der Ware selbst.  \\n2 Steht jedoch dem gutgläubigen Empfänger des Warenpapiers ein gut -\\ngläubiger Empfänger der Ware gegenüber, so geht dieser jenem vor.  \\nArt. 926  \\n1 Jeder Besitzer darf sich verbotener Eig enmacht mit Gewalt erweh ren. \\n2 Er darf sich, wenn ihm die Sache durch Gewalt oder heimlich ent zo-\\ngen wird, sofort des Grundstückes durch Vertreibung des Täters wie der \\nbemächtigen und die bewegliche Sache dem auf frischer Tat be troffe-\\nnen und unmittelbar verfolgten Täter wieder abnehmen.  \\n3 Er hat sich dabei jeder nach den Umständen nicht gerechtfertigten Ge-\\nwalt zu enthalten.  \\nArt. 927  \\n1 Wer einem andern eine Sache durch verbotene Eigenmacht entzo gen', metadata={'page': 269, 'source': 'data/Zivilgesetzbuch.pdf'}), 0.46789270639419556), (Document(page_content='Grundbuch angemerkt ist, dürfen bis zum Ablauf der Ei ntragungs frist \\nPfandrechte nur als Grundpfandverschreibungen einge tragen werden.   \\nDritter Abschnitt:648 Der Schuldbrief  \\nArt. 842 \\n1 Durch den Schuldbrief wird eine persönliche Forderung begründet, \\ndie grundpfändlich sichergestellt ist.  \\n2 Die Schuldbriefforderung tritt neben die zu sichernde Forderung, die \\ndem Gläubiger gegenüber dem Schuldner aus dem Grundverhältnis ge-\\ngebenenfalls zusteht, wenn nichts anderes vereinbart ist.  \\n3 Der Schuldner kann sich bezüglich der Schuldbriefforderung gegen-\\nüber dem Gläubiger sowie gegenüber Rechtsnachfolgern, die sich nicht \\nin gutem Glauben befinden, auf die sich aus dem Grundverhältnis erge-\\nbenden persönlichen Einreden berufen.  \\nArt. 843 \\nDer Schuldbrief wird entweder als Register -Schuldbrief oder als \\nPapier -Schuldbrief ausgestaltet.  \\n  \\n648 Fassung gemäss Ziff. I 1 des BG vom 11. Dez. 2009 (Register -Schuldbrief und weitere', metadata={'page': 255, 'source': 'data/Zivilgesetzbuch.pdf'}), 0.4681289792060852), (Document(page_content='den. III. Verpfän-\\ndung, Pfändung \\nund Nutznies-\\nsung  \\nC. Papier -\\nSchuldbrief  \\nI. Errichtung  \\n1. Eintragung  \\n2. Pfandtitel  \\nII. Schutz des \\nguten Glaubens  \\nIII. Rechte des \\nGläubigers  \\n1. Geltend -\\nmachung', metadata={'page': 259, 'source': 'data/Zivilgesetzbuch.pdf'}), 0.4696202278137207)]\n"
     ]
    }
   ],
   "source": [
    "result_with_scores = chroma_db.similarity_search_with_score(query)\n",
    "print(result_with_scores)"
   ]
  },
  {
   "cell_type": "code",
   "execution_count": 31,
   "metadata": {},
   "outputs": [],
   "source": [
    "chain = RetrievalQA.from_chain_type(llm=llm, chain_type=\"stuff\", retriever=chroma_db.as_retriever())\n"
   ]
  },
  {
   "cell_type": "code",
   "execution_count": 32,
   "metadata": {},
   "outputs": [
    {
     "name": "stdout",
     "output_type": "stream",
     "text": [
      "{'query': 'What is this document about?', 'result': 'This document appears to be excerpts from the Swiss Civil Code, specifically discussing various aspects of property law and obligations. Key topics covered include:\\n\\n1. **Schuldbrief (Mortgage Notes)**: \\n   - The creation and nature of a Schuldbrief as a personal claim secured by a mortgage.\\n   - The distinction between Register-Schuldbrief (registered mortgage notes) and Papier-Schuldbrief (paper mortgage notes).\\n   - The rights and protections for both the creditor and debtor in relation to the Schuldbrief.\\n\\n2. **Transfer and Protection of Goods**: \\n   - Rules regarding the transfer of goods represented by negotiable instruments issued by a carrier or warehouse (Art. 925).\\n   - The precedence of rights of good-faith recipients of such documents or the goods themselves.\\n\\n3. **Defense Against Unlawful Possession**: \\n   - The rights of a possessor to defend against unlawful actions (Art. 926).\\n   - The immediate recapture of property taken by force or stealth (Art. 927).\\n\\nOverall, the document outlines legal provisions related to mortgages, the transfer of goods, and defenses against unauthorized possession under Swiss law.'}\n"
     ]
    }
   ],
   "source": [
    "response = chain.invoke(query)\n",
    "print(response)"
   ]
  },
  {
   "cell_type": "code",
   "execution_count": null,
   "metadata": {},
   "outputs": [],
   "source": [
    "def get_response(query:str):\n",
    "    ## add the functionality to combine the functionalities above."
   ]
  },
  {
   "cell_type": "code",
   "execution_count": null,
   "metadata": {},
   "outputs": [],
   "source": []
  }
 ],
 "metadata": {
  "kernelspec": {
   "display_name": ".venv",
   "language": "python",
   "name": "python3"
  },
  "language_info": {
   "codemirror_mode": {
    "name": "ipython",
    "version": 3
   },
   "file_extension": ".py",
   "mimetype": "text/x-python",
   "name": "python",
   "nbconvert_exporter": "python",
   "pygments_lexer": "ipython3",
   "version": "3.11.4"
  }
 },
 "nbformat": 4,
 "nbformat_minor": 2
}
